{
 "cells": [
  {
   "cell_type": "code",
   "execution_count": 7,
   "metadata": {},
   "outputs": [],
   "source": [
    "from keras.datasets import mnist\n",
    "\n",
    "(x_train, y_train), (x_test, y_test) = mnist.load_data()\n",
    "#0~9の手書き文字のデータセット読み込み。\n",
    "#train用画像データ6万枚、test用画像データ1万枚\n",
    "#縦28x横28ピクセル グレースケール　各ピクセルは黒から白までの変化を0~255で表現"
   ]
  },
  {
   "cell_type": "code",
   "execution_count": 8,
   "metadata": {},
   "outputs": [],
   "source": [
    "#1.前処理\n",
    "\n",
    "from keras.utils.np_utils import to_categorical\n",
    "\n",
    "#画像を一次元化\n",
    "x_train = x_train.reshape(60000, 784)\n",
    "x_test = x_test.reshape(10000, 784)\n",
    "\n",
    "#画素を０〜１の範囲に変換（正規化）\n",
    "#float型にすることで実数値で表現\n",
    "x_train = x_train.astype('float32') / 255\n",
    "x_test = x_test.astype('float32') / 255\n",
    "\n",
    "#正解ラベルをone-hot-encoding→あるカラムだけ１で他のカラムは０な表現\n",
    "y_train = to_categorical(y_train, 10)\n",
    "y_test = to_categorical(y_test, 10)"
   ]
  },
  {
   "cell_type": "code",
   "execution_count": 3,
   "metadata": {
    "scrolled": true
   },
   "outputs": [],
   "source": [
    "#2.モデル構築\n",
    "\n",
    "from keras.models import Sequential\n",
    "from keras.layers import Dense\n",
    "\n",
    "model = Sequential()\n",
    "model.add(Dense(64, activation='relu', input_dim=784))\n",
    "model.add(Dense(10, activation='softmax'))\n",
    "\n",
    "model.compile(optimizer='rmsprop', loss='categorical_crossentropy', \n",
    "              metrics=['accuracy'])"
   ]
  },
  {
   "cell_type": "code",
   "execution_count": 4,
   "metadata": {},
   "outputs": [
    {
     "name": "stdout",
     "output_type": "stream",
     "text": [
      "WARNING:tensorflow:From /Users/mac/opt/anaconda3/lib/python3.7/site-packages/keras/backend/tensorflow_backend.py:422: The name tf.global_variables is deprecated. Please use tf.compat.v1.global_variables instead.\n",
      "\n",
      "Epoch 1/12\n",
      "60000/60000 [==============================] - 4s 63us/step - loss: 0.3769 - accuracy: 0.8973\n",
      "Epoch 2/12\n",
      "60000/60000 [==============================] - 3s 54us/step - loss: 0.1978 - accuracy: 0.9432\n",
      "Epoch 3/12\n",
      "60000/60000 [==============================] - 3s 53us/step - loss: 0.1490 - accuracy: 0.9563\n",
      "Epoch 4/12\n",
      "60000/60000 [==============================] - 3s 53us/step - loss: 0.1197 - accuracy: 0.9652\n",
      "Epoch 5/12\n",
      "60000/60000 [==============================] - 3s 56us/step - loss: 0.1022 - accuracy: 0.9704\n",
      "Epoch 6/12\n",
      "60000/60000 [==============================] - 3s 54us/step - loss: 0.0887 - accuracy: 0.9739\n",
      "Epoch 7/12\n",
      "60000/60000 [==============================] - 3s 54us/step - loss: 0.0789 - accuracy: 0.9766\n",
      "Epoch 8/12\n",
      "60000/60000 [==============================] - 3s 52us/step - loss: 0.0712 - accuracy: 0.9790\n",
      "Epoch 9/12\n",
      "60000/60000 [==============================] - 4s 59us/step - loss: 0.0649 - accuracy: 0.9808\n",
      "Epoch 10/12\n",
      "60000/60000 [==============================] - 3s 53us/step - loss: 0.0590 - accuracy: 0.9828\n",
      "Epoch 11/12\n",
      "60000/60000 [==============================] - 3s 56us/step - loss: 0.0540 - accuracy: 0.9843\n",
      "Epoch 12/12\n",
      "60000/60000 [==============================] - 3s 57us/step - loss: 0.0504 - accuracy: 0.9855\n"
     ]
    },
    {
     "data": {
      "text/plain": [
       "<keras.callbacks.callbacks.History at 0x63885b890>"
      ]
     },
     "execution_count": 4,
     "metadata": {},
     "output_type": "execute_result"
    }
   ],
   "source": [
    "#3.モデルにデータを学習させる\n",
    "\n",
    "model.fit(x_train, y_train, batch_size=100, epochs=12, verbose=1)"
   ]
  },
  {
   "cell_type": "code",
   "execution_count": 5,
   "metadata": {},
   "outputs": [
    {
     "name": "stdout",
     "output_type": "stream",
     "text": [
      "10000/10000 [==============================] - 1s 52us/step\n",
      "0.09542348946142011\n",
      "0.9736999869346619\n"
     ]
    }
   ],
   "source": [
    "#4. モデルを評価する\n",
    "score = model.evaluate(x_test, y_test)\n",
    "print(score[0])\n",
    "print(score[1])"
   ]
  },
  {
   "cell_type": "code",
   "execution_count": null,
   "metadata": {},
   "outputs": [],
   "source": []
  },
  {
   "cell_type": "code",
   "execution_count": null,
   "metadata": {},
   "outputs": [],
   "source": []
  },
  {
   "cell_type": "code",
   "execution_count": null,
   "metadata": {},
   "outputs": [],
   "source": []
  }
 ],
 "metadata": {
  "kernelspec": {
   "display_name": "Python 3",
   "language": "python",
   "name": "python3"
  },
  "language_info": {
   "codemirror_mode": {
    "name": "ipython",
    "version": 3
   },
   "file_extension": ".py",
   "mimetype": "text/x-python",
   "name": "python",
   "nbconvert_exporter": "python",
   "pygments_lexer": "ipython3",
   "version": "3.7.6"
  }
 },
 "nbformat": 4,
 "nbformat_minor": 4
}
